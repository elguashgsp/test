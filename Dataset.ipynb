import pandas as pd
import matplotlib.pyplot as plt
import seaborn as sns
#Quick exploratory data analysis
#Load the dataset
data = pd.read_csv('your_data.csv')  # Replace with your data file path

#Summary statistics
print(data.describe())

#Visualize order distribution
plt.figure(figsize=(10, 5))
sns.countplot(x='Order', data=data, palette='Set1')
plt.xticks(rotation=90)
plt.title('Order Distribution')
plt.show()



